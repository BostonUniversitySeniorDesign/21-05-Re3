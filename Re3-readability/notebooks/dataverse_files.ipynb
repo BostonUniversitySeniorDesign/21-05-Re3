{
 "cells": [
  {
   "cell_type": "code",
   "execution_count": 22,
   "metadata": {},
   "outputs": [],
   "source": [
    "import pandas as pd\n",
    "import numpy as np\n",
    "import seaborn as sns\n",
    "import matplotlib.pyplot as plt"
   ]
  },
  {
   "cell_type": "code",
   "execution_count": 23,
   "metadata": {},
   "outputs": [
    {
     "data": {
      "text/html": [
       "<div>\n",
       "<style scoped>\n",
       "    .dataframe tbody tr th:only-of-type {\n",
       "        vertical-align: middle;\n",
       "    }\n",
       "\n",
       "    .dataframe tbody tr th {\n",
       "        vertical-align: top;\n",
       "    }\n",
       "\n",
       "    .dataframe thead th {\n",
       "        text-align: right;\n",
       "    }\n",
       "</style>\n",
       "<table border=\"1\" class=\"dataframe\">\n",
       "  <thead>\n",
       "    <tr style=\"text-align: right;\">\n",
       "      <th></th>\n",
       "      <th>doi</th>\n",
       "      <th>filename</th>\n",
       "      <th>year</th>\n",
       "      <th>readability_score</th>\n",
       "    </tr>\n",
       "  </thead>\n",
       "  <tbody>\n",
       "    <tr>\n",
       "      <th>0</th>\n",
       "      <td>doi:10.7910/DVN/WCTILJ</td>\n",
       "      <td>Script.R</td>\n",
       "      <td>2020</td>\n",
       "      <td>6.053857</td>\n",
       "    </tr>\n",
       "    <tr>\n",
       "      <th>1</th>\n",
       "      <td>doi:10.7910/DVN/O3ETO9</td>\n",
       "      <td>jose-galdino-script-tf-ad-ufpe-2018.R</td>\n",
       "      <td>2019</td>\n",
       "      <td>6.274306</td>\n",
       "    </tr>\n",
       "    <tr>\n",
       "      <th>2</th>\n",
       "      <td>doi:10.7910/DVN/TKTN5J</td>\n",
       "      <td>0_Run It All.R</td>\n",
       "      <td>2017</td>\n",
       "      <td>6.726643</td>\n",
       "    </tr>\n",
       "    <tr>\n",
       "      <th>3</th>\n",
       "      <td>doi:10.7910/DVN/TKTN5J</td>\n",
       "      <td>1_Prep the data.R</td>\n",
       "      <td>2017</td>\n",
       "      <td>5.907666</td>\n",
       "    </tr>\n",
       "    <tr>\n",
       "      <th>4</th>\n",
       "      <td>doi:10.7910/DVN/TKTN5J</td>\n",
       "      <td>2_Run eBal.R</td>\n",
       "      <td>2017</td>\n",
       "      <td>5.659895</td>\n",
       "    </tr>\n",
       "  </tbody>\n",
       "</table>\n",
       "</div>"
      ],
      "text/plain": [
       "                      doi                               filename  year  \\\n",
       "0  doi:10.7910/DVN/WCTILJ                               Script.R  2020   \n",
       "1  doi:10.7910/DVN/O3ETO9  jose-galdino-script-tf-ad-ufpe-2018.R  2019   \n",
       "2  doi:10.7910/DVN/TKTN5J                         0_Run It All.R  2017   \n",
       "3  doi:10.7910/DVN/TKTN5J                      1_Prep the data.R  2017   \n",
       "4  doi:10.7910/DVN/TKTN5J                           2_Run eBal.R  2017   \n",
       "\n",
       "   readability_score  \n",
       "0           6.053857  \n",
       "1           6.274306  \n",
       "2           6.726643  \n",
       "3           5.907666  \n",
       "4           5.659895  "
      ]
     },
     "execution_count": 23,
     "metadata": {},
     "output_type": "execute_result"
    }
   ],
   "source": [
    "#df_scores = pd.read_csv(\"../data/dataverse/dv_rating.csv\", index_col=0)\n",
    "df = pd.read_csv(\"../data/dataverse/dv_scores.csv\", index_col=0)\n",
    "df_scores = df.iloc[:,-2:]\n",
    "\n",
    "df.head()"
   ]
  },
  {
   "cell_type": "code",
   "execution_count": 24,
   "metadata": {},
   "outputs": [
    {
     "name": "stdout",
     "output_type": "stream",
     "text": [
      "7.100544705325084\n",
      "3.2068965517241383\n"
     ]
    }
   ],
   "source": [
    "print(df['readability_score'].max())\n",
    "print(df['readability_score'].min())"
   ]
  },
  {
   "cell_type": "code",
   "execution_count": 25,
   "metadata": {},
   "outputs": [
    {
     "data": {
      "text/html": [
       "<div>\n",
       "<style scoped>\n",
       "    .dataframe tbody tr th:only-of-type {\n",
       "        vertical-align: middle;\n",
       "    }\n",
       "\n",
       "    .dataframe tbody tr th {\n",
       "        vertical-align: top;\n",
       "    }\n",
       "\n",
       "    .dataframe thead th {\n",
       "        text-align: right;\n",
       "    }\n",
       "</style>\n",
       "<table border=\"1\" class=\"dataframe\">\n",
       "  <thead>\n",
       "    <tr style=\"text-align: right;\">\n",
       "      <th></th>\n",
       "      <th># of files</th>\n",
       "      <th>avg score</th>\n",
       "    </tr>\n",
       "    <tr>\n",
       "      <th>year</th>\n",
       "      <th></th>\n",
       "      <th></th>\n",
       "    </tr>\n",
       "  </thead>\n",
       "  <tbody>\n",
       "    <tr>\n",
       "      <th>2010</th>\n",
       "      <td>1</td>\n",
       "      <td>5.818724</td>\n",
       "    </tr>\n",
       "    <tr>\n",
       "      <th>2014</th>\n",
       "      <td>3</td>\n",
       "      <td>5.686411</td>\n",
       "    </tr>\n",
       "    <tr>\n",
       "      <th>2015</th>\n",
       "      <td>108</td>\n",
       "      <td>5.753437</td>\n",
       "    </tr>\n",
       "    <tr>\n",
       "      <th>2016</th>\n",
       "      <td>642</td>\n",
       "      <td>5.830964</td>\n",
       "    </tr>\n",
       "    <tr>\n",
       "      <th>2017</th>\n",
       "      <td>571</td>\n",
       "      <td>5.807854</td>\n",
       "    </tr>\n",
       "    <tr>\n",
       "      <th>2018</th>\n",
       "      <td>801</td>\n",
       "      <td>5.814034</td>\n",
       "    </tr>\n",
       "    <tr>\n",
       "      <th>2019</th>\n",
       "      <td>1018</td>\n",
       "      <td>5.822070</td>\n",
       "    </tr>\n",
       "    <tr>\n",
       "      <th>2020</th>\n",
       "      <td>573</td>\n",
       "      <td>5.923384</td>\n",
       "    </tr>\n",
       "  </tbody>\n",
       "</table>\n",
       "</div>"
      ],
      "text/plain": [
       "      # of files  avg score\n",
       "year                       \n",
       "2010           1   5.818724\n",
       "2014           3   5.686411\n",
       "2015         108   5.753437\n",
       "2016         642   5.830964\n",
       "2017         571   5.807854\n",
       "2018         801   5.814034\n",
       "2019        1018   5.822070\n",
       "2020         573   5.923384"
      ]
     },
     "execution_count": 25,
     "metadata": {},
     "output_type": "execute_result"
    }
   ],
   "source": [
    "# show number of files and the mean score per year\n",
    "years_info = df_scores.groupby(['year']).count()\n",
    "years_info['avg score'] = df_scores.groupby(['year']).mean()\n",
    "years_info = years_info.rename(columns={\"readability_score\": \"# of files\"})\n",
    "years_info"
   ]
  },
  {
   "cell_type": "markdown",
   "metadata": {},
   "source": [
    "# SNS Style"
   ]
  },
  {
   "cell_type": "code",
   "execution_count": 26,
   "metadata": {},
   "outputs": [],
   "source": [
    "sns.set_context(\"paper\", font_scale=1)\n",
    "sns.set_style('whitegrid')\n",
    "sns.set_style({'font.family': 'Times New Roman'})"
   ]
  },
  {
   "cell_type": "markdown",
   "metadata": {},
   "source": [
    "# Plot Distribution of Dataverse Scores"
   ]
  },
  {
   "cell_type": "code",
   "execution_count": 36,
   "metadata": {},
   "outputs": [
    {
     "data": {
      "image/png": "[encoded data removed]",
      "text/plain": [
       "<Figure size 432x288 with 1 Axes>"
      ]
     },
     "metadata": {},
     "output_type": "display_data"
    }
   ],
   "source": [
    "#fig = plt.figure(figsize=(3.48,2.3))\n",
    "plt.figure(figsize=(6,4))\n",
    "plt.title(\"Dataverse R Code Rating Distribution\") \n",
    "plt.xlabel('Readability Rating')  \n",
    "plt.ylabel('Count')\n",
    "sns.histplot(x = df_scores['readability_score'].values, kde = True)\n",
    "plt.tight_layout()\n",
    "plt.show()"
   ]
  },
  {
   "cell_type": "markdown",
   "metadata": {},
   "source": [
    "# Heatmap of Scores Per Year"
   ]
  },
  {
   "cell_type": "code",
   "execution_count": 42,
   "metadata": {},
   "outputs": [
    {
     "data": {
      "text/html": [
       "<div>\n",
       "<style scoped>\n",
       "    .dataframe tbody tr th:only-of-type {\n",
       "        vertical-align: middle;\n",
       "    }\n",
       "\n",
       "    .dataframe tbody tr th {\n",
       "        vertical-align: top;\n",
       "    }\n",
       "\n",
       "    .dataframe thead th {\n",
       "        text-align: right;\n",
       "    }\n",
       "</style>\n",
       "<table border=\"1\" class=\"dataframe\">\n",
       "  <thead>\n",
       "    <tr style=\"text-align: right;\">\n",
       "      <th>year</th>\n",
       "      <th>2010</th>\n",
       "      <th>2014</th>\n",
       "      <th>2015</th>\n",
       "      <th>2016</th>\n",
       "      <th>2017</th>\n",
       "      <th>2018</th>\n",
       "      <th>2019</th>\n",
       "      <th>2020</th>\n",
       "    </tr>\n",
       "  </thead>\n",
       "  <tbody>\n",
       "    <tr>\n",
       "      <th>0</th>\n",
       "      <td>5.818724</td>\n",
       "      <td>5.249090</td>\n",
       "      <td>3.471264</td>\n",
       "      <td>3.206897</td>\n",
       "      <td>3.265486</td>\n",
       "      <td>3.937500</td>\n",
       "      <td>3.270608</td>\n",
       "      <td>3.497388</td>\n",
       "    </tr>\n",
       "    <tr>\n",
       "      <th>1</th>\n",
       "      <td>NaN</td>\n",
       "      <td>5.903476</td>\n",
       "      <td>3.717172</td>\n",
       "      <td>3.213106</td>\n",
       "      <td>3.821402</td>\n",
       "      <td>4.000000</td>\n",
       "      <td>3.575758</td>\n",
       "      <td>3.880208</td>\n",
       "    </tr>\n",
       "    <tr>\n",
       "      <th>2</th>\n",
       "      <td>NaN</td>\n",
       "      <td>5.906667</td>\n",
       "      <td>4.178253</td>\n",
       "      <td>3.256439</td>\n",
       "      <td>3.834171</td>\n",
       "      <td>4.000000</td>\n",
       "      <td>3.622896</td>\n",
       "      <td>4.000000</td>\n",
       "    </tr>\n",
       "    <tr>\n",
       "      <th>3</th>\n",
       "      <td>NaN</td>\n",
       "      <td>NaN</td>\n",
       "      <td>4.392639</td>\n",
       "      <td>3.391327</td>\n",
       "      <td>3.923611</td>\n",
       "      <td>4.145833</td>\n",
       "      <td>3.830303</td>\n",
       "      <td>4.000000</td>\n",
       "    </tr>\n",
       "    <tr>\n",
       "      <th>4</th>\n",
       "      <td>NaN</td>\n",
       "      <td>NaN</td>\n",
       "      <td>4.454545</td>\n",
       "      <td>3.561865</td>\n",
       "      <td>4.000000</td>\n",
       "      <td>4.164198</td>\n",
       "      <td>3.858586</td>\n",
       "      <td>4.000000</td>\n",
       "    </tr>\n",
       "  </tbody>\n",
       "</table>\n",
       "</div>"
      ],
      "text/plain": [
       "year      2010      2014      2015      2016      2017      2018      2019  \\\n",
       "0     5.818724  5.249090  3.471264  3.206897  3.265486  3.937500  3.270608   \n",
       "1          NaN  5.903476  3.717172  3.213106  3.821402  4.000000  3.575758   \n",
       "2          NaN  5.906667  4.178253  3.256439  3.834171  4.000000  3.622896   \n",
       "3          NaN       NaN  4.392639  3.391327  3.923611  4.145833  3.830303   \n",
       "4          NaN       NaN  4.454545  3.561865  4.000000  4.164198  3.858586   \n",
       "\n",
       "year      2020  \n",
       "0     3.497388  \n",
       "1     3.880208  \n",
       "2     4.000000  \n",
       "3     4.000000  \n",
       "4     4.000000  "
      ]
     },
     "execution_count": 42,
     "metadata": {},
     "output_type": "execute_result"
    }
   ],
   "source": [
    "# create df with years as columns\n",
    "df_years = df_scores.pivot(columns='year')['readability_score']\n",
    "\n",
    "arr = []\n",
    "for column in df_years:\n",
    "    temp = df_years[column].values\n",
    "    arr = temp[~(np.isnan(temp))]\n",
    "    df_years[column] = pd.Series(np.sort(arr))\n",
    "    \n",
    "df_years = df_years.dropna(how='all')\n",
    "df_years.head()"
   ]
  },
  {
   "cell_type": "code",
   "execution_count": 53,
   "metadata": {},
   "outputs": [
    {
     "data": {
      "image/png": "[encoded data removed]",
      "text/plain": [
       "<Figure size 576x432 with 2 Axes>"
      ]
     },
     "metadata": {},
     "output_type": "display_data"
    }
   ],
   "source": [
    "#fig = plt.figure(figsize=(3.48,2.3))\n",
    "plt.figure(figsize=(8,6))\n",
    "plt.title(\"Heatmap of Dataverse Readability Scores by Year\", fontsize = 14) \n",
    "plt.xticks(fontsize = 12)\n",
    "plt.yticks(fontsize = 12)\n",
    "\n",
    "sns.heatmap((df_years.iloc[:, 2:]).transpose(), cmap=\"RdYlGn\")\n",
    "plt.show()"
   ]
  },
  {
   "cell_type": "markdown",
   "metadata": {},
   "source": [
    "# Rating Distribution Per Year at Dataverse"
   ]
  },
  {
   "cell_type": "code",
   "execution_count": 48,
   "metadata": {},
   "outputs": [
    {
     "name": "stderr",
     "output_type": "stream",
     "text": [
      "/Users/ethanhung/opt/anaconda3/lib/python3.8/site-packages/seaborn/distributions.py:306: UserWarning: Dataset has 0 variance; skipping density estimate.\n",
      "  warnings.warn(msg, UserWarning)\n"
     ]
    },
    {
     "data": {
      "image/png": "[encoded data removed]",
      "text/plain": [
       "<Figure size 432x288 with 1 Axes>"
      ]
     },
     "metadata": {},
     "output_type": "display_data"
    }
   ],
   "source": [
    "#fig = plt.figure(figsize=(3.48,2.3))\n",
    "fig = plt.figure(figsize=(6,4))\n",
    "\n",
    "sns.kdeplot(data = df, x='readability_score', palette='Paired', hue='year') \n",
    "#sns.histplot(data = df, x='readability_score', palette='Paired', hue='year') \n",
    "plt.title(\"Rating Distribution of R Code from Harvard Dataverse\") #, fontsize=16) \n",
    "plt.xlabel('Readability Rating') #,fontsize = 8)  \n",
    "\n",
    "#ax.set(xlabel='Sharing Mode')\\n\",\n",
    "#plt.xticks(rotat\n",
    "plt.tight_layout()\n",
    "plt.savefig('rating-hist3.pdf', pdi=100, bbox_inches='tight')"
   ]
  },
  {
   "cell_type": "code",
   "execution_count": null,
   "metadata": {},
   "outputs": [],
   "source": []
  }
 ],
 "metadata": {
  "kernelspec": {
   "display_name": "Python 3",
   "language": "python",
   "name": "python3"
  },
  "language_info": {
   "codemirror_mode": {
    "name": "ipython",
    "version": 3
   },
   "file_extension": ".py",
   "mimetype": "text/x-python",
   "name": "python",
   "nbconvert_exporter": "python",
   "pygments_lexer": "ipython3",
   "version": "3.8.3"
  }
 },
 "nbformat": 4,
 "nbformat_minor": 4
}
