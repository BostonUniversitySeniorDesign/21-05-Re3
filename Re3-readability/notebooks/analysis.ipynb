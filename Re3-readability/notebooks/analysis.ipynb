{
 "cells": [
  {
   "cell_type": "code",
   "execution_count": 11,
   "metadata": {},
   "outputs": [],
   "source": [
    "import sklearn\n",
    "import pandas as pd\n",
    "import seaborn as sns\n",
    "import matplotlib.pyplot as plt\n",
    "import numpy as np\n",
    "from sklearn.model_selection import train_test_split\n",
    "from sklearn.linear_model import LinearRegression, LogisticRegression, Lasso\n",
    "from sklearn import svm\n",
    "from sklearn.metrics import mean_squared_error, accuracy_score\n",
    "from sklearn.dummy import DummyRegressor\n",
    "from sklearn.ensemble import RandomForestRegressor, RandomForestClassifier,AdaBoostRegressor, AdaBoostClassifier\n",
    "from sklearn.neighbors import KNeighborsRegressor\n",
    "from sklearn.neural_network import MLPRegressor\n",
    "from sklearn.cluster import KMeans\n",
    "from sklearn.model_selection import cross_val_score, cross_validate\n",
    "from sklearn.feature_selection import SelectKBest, f_regression\n",
    "from sklearn.naive_bayes import GaussianNB, BernoulliNB\n",
    "from sklearn.inspection import permutation_importance\n",
    "import pickle"
   ]
  },
  {
   "cell_type": "markdown",
   "metadata": {},
   "source": [
    "# Fetching and preparing data "
   ]
  },
  {
   "cell_type": "code",
   "execution_count": 12,
   "metadata": {},
   "outputs": [],
   "source": [
    "# features = pd.read_csv('../data/features.csv', index_col= 0)\n",
    "features = pd.read_csv('../data/features_with_vars.csv', index_col=0)\n",
    "\n",
    "# Uncomment desired rating mode\n",
    "# ratings = pd.read_csv('../data/average_ratings.csv',index_col = 0)\n",
    "ratings = pd.read_csv('../data/average_ratings_no_outliers.csv',index_col = 0)"
   ]
  },
  {
   "cell_type": "code",
   "execution_count": 13,
   "metadata": {},
   "outputs": [],
   "source": [
    "# uncomment the line below if you are using features.csv instead of features_with_vars.csv\n",
    "# features_reduced  = features.iloc[:,2:-6]\n",
    "# comment the line below if you are using features.csv instead of features_with_vars.csv\n",
    "features_reduced = features.iloc[:,2:-1] \n",
    "\n",
    "X = features_reduced.values\n",
    "\n",
    "y = ratings.iloc[:,1].values\n",
    "X_train, X_test, y_train, y_test = train_test_split(X, y, test_size=0.2, random_state=12)\n",
    "\n",
    "\n",
    "array_of_accuracies = {}"
   ]
  },
  {
   "cell_type": "markdown",
   "metadata": {},
   "source": [
    "# Linear Regression"
   ]
  },
  {
   "cell_type": "code",
   "execution_count": 14,
   "metadata": {
    "scrolled": true
   },
   "outputs": [],
   "source": [
    "# Training model\n",
    "linear_regression_model = LinearRegression()\n",
    "reg = linear_regression_model.fit(X_train, y_train) "
   ]
  },
  {
   "cell_type": "code",
   "execution_count": 15,
   "metadata": {},
   "outputs": [
    {
     "name": "stdout",
     "output_type": "stream",
     "text": [
      "0.38816686631751546\n"
     ]
    }
   ],
   "source": [
    "# Evaluating model\n",
    "reg_y_pred = reg.predict(X_test)\n",
    "acc_mse = mean_squared_error(reg_y_pred,y_test)\n",
    "print(mean_squared_error(reg_y_pred,y_test))\n",
    "\n",
    "array_of_accuracies[\"Linear Regression\"] = acc_mse\n"
   ]
  },
  {
   "cell_type": "code",
   "execution_count": 16,
   "metadata": {},
   "outputs": [],
   "source": [
    "# save the model to disk\n",
    "filename = 'linear_model.sav'\n",
    "pickle.dump(reg, open(filename, 'wb'))"
   ]
  },
  {
   "cell_type": "markdown",
   "metadata": {},
   "source": [
    "# Support Vector Machines"
   ]
  },
  {
   "cell_type": "code",
   "execution_count": 17,
   "metadata": {},
   "outputs": [],
   "source": [
    "# Training svm model with rbf kernel\n",
    "SVM = svm.SVR()\n",
    "\n",
    "# SVM HyperParameter Tuning\n",
    "K = 10\n",
    "\n",
    "# specifying list of parameters to be searched over\n",
    "max_iter_int = -1\n",
    "kernel = [\"linear\", \"poly\", \"rbf\", \"sigmoid\"]\n",
    "degree = [2,4,6,8,10]\n",
    "tolfloat = 1e-5\n",
    "\n",
    "# creating variables that will keep track of best score and parameters\n",
    "best_score = 10\n",
    "hp = {\"kernel\" : kernel[0], \"degree\" : 0}\n",
    "counter = 1\n",
    "\n",
    "# looping over said parameters\n",
    "for j in kernel:\n",
    "    count = 0\n",
    "    for k in degree:    \n",
    "        # creating rf with the parameters and then getting the cross val score for it\n",
    "        if(j == \"poly\" or count == 0):\n",
    "            svm_reg = svm.SVR(kernel = j, degree = k)\n",
    "            score = cross_val_score(svm_reg,X_train,y_train,cv = K, scoring = \"neg_mean_squared_error\")\n",
    "            # storing the param if they show improvements\n",
    "            if(abs(np.mean(score)) < best_score):\n",
    "                best_score = abs(np.mean(score))\n",
    "                hp = {\"kernel\" : j, \"degree\": k}\n",
    "\n",
    "            counter+=1    \n",
    "            count += 1"
   ]
  },
  {
   "cell_type": "code",
   "execution_count": 18,
   "metadata": {},
   "outputs": [
    {
     "name": "stdout",
     "output_type": "stream",
     "text": [
      "0.6526038867511781\n"
     ]
    }
   ],
   "source": [
    "# Assigning the best hyperparameters to hp_svm_reg\n",
    "hp_svm_reg = hp\n",
    "\n",
    "# creating the svm_reg based on those parameters\n",
    "svm_reg = svm.SVR(kernel = hp_svm_reg[\"kernel\"], degree = hp_svm_reg[\"degree\"])\n",
    "svm_reg.fit(X_train,y_train)\n",
    "\n",
    "# using svm_reg to evaluate the test set\n",
    "svm_y_pred = svm_reg.predict(X_test)\n",
    "\n",
    "# getting the accuracy of the prediction\n",
    "acc_mse = mean_squared_error(svm_y_pred,y_test)\n",
    "print(acc_mse)\n",
    "\n",
    "array_of_accuracies[\"SVM\"] = (acc_mse)"
   ]
  },
  {
   "cell_type": "markdown",
   "metadata": {},
   "source": [
    "# Random Forests "
   ]
  },
  {
   "cell_type": "code",
   "execution_count": 19,
   "metadata": {},
   "outputs": [],
   "source": [
    "K = 10\n",
    "\n",
    "# specifying list of parameters to be searched over\n",
    "max_d = [1,2,3,4,5]\n",
    "max_f = [\"sqrt\",\"log2\",\"auto\"]\n",
    "estimators = np.linspace(10,400,5)\n",
    "\n",
    "# creating variables that will keep track of best score and parameters\n",
    "best_score = 10\n",
    "hp = {\"max_depth\" : max_d[0], \"max_features\": max_f[0], \"n_estimators\": int(estimators[0])}\n",
    "counter = 1\n",
    "\n",
    "# looping over said parameters\n",
    "for j in max_d:\n",
    "    for k in max_f:\n",
    "        for l in estimators:\n",
    "            \n",
    "            # creating rf with the parameters and then getting the cross val score for it\n",
    "            rf = RandomForestRegressor(random_state=123, n_estimators = int(l),max_features = k,max_depth = j)\n",
    "            score = cross_val_score(rf,X_train,y_train,cv = K, scoring = \"neg_mean_squared_error\")\n",
    "            \n",
    "            # storing the param if they show improvements\n",
    "            if(abs(np.mean(score)) < best_score):\n",
    "                best_score = abs(np.mean(score))\n",
    "                hp = {\"max_depth\" : j, \"max_features\": k, \"n_estimators\": int(l)}\n",
    "#             print(abs((np.mean(score))))\n",
    "#             print(counter)\n",
    "            counter+=1                        "
   ]
  },
  {
   "cell_type": "code",
   "execution_count": 20,
   "metadata": {},
   "outputs": [
    {
     "name": "stdout",
     "output_type": "stream",
     "text": [
      "0.4552730279559924\n"
     ]
    }
   ],
   "source": [
    "# print the best params found from the previous snippet\n",
    "hp_rf = hp\n",
    "\n",
    "# Evaluating model\n",
    "rf = RandomForestRegressor(random_state=123,n_estimators = hp_rf[\"n_estimators\"], max_features = hp_rf[\"max_features\"]\n",
    "                           , max_depth = hp_rf[\"max_depth\"])\n",
    "\n",
    "# fit the model on the training data\n",
    "rf.fit(X_train,y_train)\n",
    "\n",
    "# use the model to predict the test set\n",
    "rf_y_pred = rf.predict(X_test)\n",
    "acc_mse = mean_squared_error(rf_y_pred,y_test)\n",
    "\n",
    "print(acc_mse)\n",
    "\n",
    "array_of_accuracies[\"Random Forest\"] = (acc_mse)"
   ]
  },
  {
   "cell_type": "markdown",
   "metadata": {},
   "source": [
    "# Ada Boost"
   ]
  },
  {
   "cell_type": "code",
   "execution_count": 21,
   "metadata": {},
   "outputs": [],
   "source": [
    "# Basic RF model better than linear regression\n",
    "K = 10\n",
    "\n",
    "# specifying list of parameters to be searched over\n",
    "lr = np.linspace(0.01,1,10)\n",
    "estimators = np.linspace(10,400,5)\n",
    "alg = [\"SAMME\",\"SAMME.R\"]\n",
    "\n",
    "# creating variables that will keep track of best score and parameters\n",
    "best_score = 10\n",
    "hp = {\"learning_rate\" : 0.01, \"algorithm\": \"SAMME\", \"n_estimators\": int(estimators[0])}\n",
    "counter = 1\n",
    "\n",
    "# looping over said parameters\n",
    "for j in lr:\n",
    "    for l in estimators:\n",
    "\n",
    "        # creating rf with the parameters and then getting the cross val score for it\n",
    "        ab = AdaBoostRegressor(random_state=123, n_estimators = int(l),learning_rate = j)\n",
    "        score = cross_val_score(ab,X_train,y_train,cv = K, scoring = \"neg_mean_squared_error\")\n",
    "\n",
    "        # storing the param if they show improvements\n",
    "        if(abs(np.mean(score)) < best_score):\n",
    "            best_score = abs(np.mean(score))\n",
    "            hp = {\"learning_rate\" : j, \"n_estimators\": int(l)}\n",
    "        counter+=1  \n",
    "        \n",
    "k = 10\n",
    "ab = AdaBoostRegressor(random_state=123)\n",
    "score = cross_val_score(ab,X_train,y_train,cv = k)"
   ]
  },
  {
   "cell_type": "code",
   "execution_count": 27,
   "metadata": {},
   "outputs": [
    {
     "ename": "KeyError",
     "evalue": "'learning_rate'",
     "output_type": "error",
     "traceback": [
      "\u001b[0;31m---------------------------------------------------------------------------\u001b[0m",
      "\u001b[0;31mKeyError\u001b[0m                                  Traceback (most recent call last)",
      "\u001b[0;32m<ipython-input-27-cb97f0b8b410>\u001b[0m in \u001b[0;36m<module>\u001b[0;34m\u001b[0m\n\u001b[1;32m      3\u001b[0m \u001b[0;34m\u001b[0m\u001b[0m\n\u001b[1;32m      4\u001b[0m \u001b[0;31m# Creating hp_ab based on the best hyperparameters\u001b[0m\u001b[0;34m\u001b[0m\u001b[0;34m\u001b[0m\u001b[0;34m\u001b[0m\u001b[0m\n\u001b[0;32m----> 5\u001b[0;31m \u001b[0mab\u001b[0m \u001b[0;34m=\u001b[0m \u001b[0mAdaBoostRegressor\u001b[0m\u001b[0;34m(\u001b[0m\u001b[0mrandom_state\u001b[0m\u001b[0;34m=\u001b[0m\u001b[0;36m123\u001b[0m\u001b[0;34m,\u001b[0m \u001b[0mn_estimators\u001b[0m \u001b[0;34m=\u001b[0m \u001b[0mhp_ab\u001b[0m\u001b[0;34m[\u001b[0m\u001b[0;34m\"n_estimators\"\u001b[0m\u001b[0;34m]\u001b[0m\u001b[0;34m,\u001b[0m\u001b[0mlearning_rate\u001b[0m \u001b[0;34m=\u001b[0m \u001b[0mhp_ab\u001b[0m\u001b[0;34m[\u001b[0m\u001b[0;34m\"learning_rate\"\u001b[0m\u001b[0;34m]\u001b[0m\u001b[0;34m)\u001b[0m\u001b[0;34m\u001b[0m\u001b[0;34m\u001b[0m\u001b[0m\n\u001b[0m\u001b[1;32m      6\u001b[0m \u001b[0;34m\u001b[0m\u001b[0m\n\u001b[1;32m      7\u001b[0m \u001b[0;31m# fitting the model\u001b[0m\u001b[0;34m\u001b[0m\u001b[0;34m\u001b[0m\u001b[0;34m\u001b[0m\u001b[0m\n",
      "\u001b[0;31mKeyError\u001b[0m: 'learning_rate'"
     ]
    }
   ],
   "source": [
    "# Assigning the best hyperparameters to hp_ab\n",
    "hp_ab = hp\n",
    "\n",
    "# Creating hp_ab based on the best hyperparameters\n",
    "ab = AdaBoostRegressor(random_state=123, n_estimators = hp_ab[\"n_estimators\"],learning_rate = hp_ab[\"learning_rate\"])\n",
    "\n",
    "# fitting the model\n",
    "ab.fit(X_train,y_train)\n",
    "\n",
    "# using the model to make prediction on the test set\n",
    "ab_y_pred = ab.predict(X_test)\n",
    "\n",
    "acc_mse = mean_squared_error(ab_y_pred,y_test)\n",
    "print(acc_mse)\n",
    "\n",
    "array_of_accuracies[\"AdaBoost\"] = (acc_mse)"
   ]
  },
  {
   "cell_type": "code",
   "execution_count": 72,
   "metadata": {},
   "outputs": [
    {
     "name": "stdout",
     "output_type": "stream",
     "text": [
      "{'Linear Regression': 0.38434155015769855, 'Random Forest': 0.8050665935608865, 'AdaBoost': 0.40046531447686606}\n"
     ]
    }
   ],
   "source": [
    "print(array_of_accuracies)"
   ]
  },
  {
   "cell_type": "markdown",
   "metadata": {},
   "source": [
    "# Nearest Neighboors"
   ]
  },
  {
   "cell_type": "code",
   "execution_count": 16,
   "metadata": {},
   "outputs": [
    {
     "data": {
      "image/png": "[encoded data removed]",
      "text/plain": [
       "<Figure size 432x288 with 1 Axes>"
      ]
     },
     "metadata": {
      "needs_background": "light"
     },
     "output_type": "display_data"
    },
    {
     "data": {
      "text/plain": [
       "KNeighborsRegressor(n_neighbors=1)"
      ]
     },
     "execution_count": 16,
     "metadata": {},
     "output_type": "execute_result"
    }
   ],
   "source": [
    "counter = 0\n",
    "training_error = np.zeros(25)\n",
    "\n",
    "for i in range(1,26):\n",
    "    nn = KNeighborsRegressor(n_neighbors=i)\n",
    "    nn.fit(X_train, y_train)\n",
    "    training_error[counter] = (mean_squared_error(nn.predict(X_train),y_train))\n",
    "    counter += 1\n",
    "    \n",
    "x = np.linspace(1,25,25)\n",
    "a = sns.scatterplot(x = x,y = training_error)\n",
    "a.set(xlabel = 'number of neighbors', ylabel = 'training error')\n",
    "plt.show()\n",
    "\n",
    "\n",
    "nn = KNeighborsRegressor(n_neighbors = 1)\n",
    "nn.fit(X_train,y_train)"
   ]
  },
  {
   "cell_type": "code",
   "execution_count": 17,
   "metadata": {},
   "outputs": [],
   "source": [
    "# evaluating the model\n",
    "y_test_nn = nn.predict(X_test)\n",
    "\n",
    "acc_mse = mean_squared_error(y_test_nn,y_test)\n",
    "\n",
    "array_of_accuracies[\"KNN\"] = acc_mse"
   ]
  },
  {
   "cell_type": "markdown",
   "metadata": {},
   "source": [
    "# Neural Net"
   ]
  },
  {
   "cell_type": "code",
   "execution_count": 81,
   "metadata": {},
   "outputs": [
    {
     "name": "stdout",
     "output_type": "stream",
     "text": [
      "1.7145199022095838\n"
     ]
    }
   ],
   "source": [
    "regr = MLPRegressor(random_state=1, learning_rate_init = 0.01, max_iter=500).fit(X_train, y_train)\n",
    "\n",
    "y_pred_nn = regr.predict(X_test)\n",
    "\n",
    "acc_mse = mean_squared_error(y_pred_nn,y_test)\n",
    "\n",
    "print(acc_mse)\n",
    "\n",
    "array_of_accuracies[\"Neural Network\"] = acc_mse\n"
   ]
  },
  {
   "cell_type": "markdown",
   "metadata": {},
   "source": [
    "# Make Plot of all the Accuracies "
   ]
  },
  {
   "cell_type": "code",
   "execution_count": 18,
   "metadata": {},
   "outputs": [
    {
     "name": "stdout",
     "output_type": "stream",
     "text": [
      "dict_keys(['KNN'])\n",
      "[1.3447636457756884]\n"
     ]
    }
   ],
   "source": [
    "print(array_of_accuracies.keys())\n",
    "print(list(array_of_accuracies.values()))"
   ]
  },
  {
   "cell_type": "code",
   "execution_count": null,
   "metadata": {},
   "outputs": [],
   "source": [
    "plt.figure(figsize = (9,8))\n",
    "plt.ylabel('Mean Squred Error')\n",
    "sns.set_context(\"paper\", font_scale=1)\n",
    "sns.set_style('whitegrid')\n",
    "sns.set_style({'font.family': 'Times New Roman'})\n",
    "sns.barplot(x = list(array_of_accuracies.keys()), y = list(array_of_accuracies.values()))\n",
    "plt.tight_layout()"
   ]
  },
  {
   "cell_type": "markdown",
   "metadata": {},
   "source": [
    "# Performing the Binary Task for Comparison with the Michigan Study"
   ]
  },
  {
   "cell_type": "code",
   "execution_count": 9,
   "metadata": {},
   "outputs": [],
   "source": [
    "binary_ratings = 1*(ratings['snippet rating'].values > 5)\n",
    "y = binary_ratings\n",
    "X_train, X_test, y_train, y_test = train_test_split(X, binary_ratings, test_size=0.2, random_state=12)"
   ]
  },
  {
   "cell_type": "markdown",
   "metadata": {},
   "source": [
    "# Logistic Regression, Random Forests, AdaBoost, SVM"
   ]
  },
  {
   "cell_type": "code",
   "execution_count": 10,
   "metadata": {},
   "outputs": [
    {
     "name": "stdout",
     "output_type": "stream",
     "text": [
      "Random Forest \t0.95\n",
      "AdaBoost \t0.85\n",
      "Logistic R. \t0.85\n",
      "Naive Bayes \t0.85\n",
      "Bernoulli NB \t0.75\n"
     ]
    },
    {
     "name": "stderr",
     "output_type": "stream",
     "text": [
      "/Users/andoliveira/miniconda3/envs/re3/lib/python3.8/site-packages/sklearn/linear_model/_logistic.py:763: ConvergenceWarning: lbfgs failed to converge (status=1):\n",
      "STOP: TOTAL NO. of ITERATIONS REACHED LIMIT.\n",
      "\n",
      "Increase the number of iterations (max_iter) or scale the data as shown in:\n",
      "    https://scikit-learn.org/stable/modules/preprocessing.html\n",
      "Please also refer to the documentation for alternative solver options:\n",
      "    https://scikit-learn.org/stable/modules/linear_model.html#logistic-regression\n",
      "  n_iter_i = _check_optimize_result(\n"
     ]
    }
   ],
   "source": [
    "supervised_model_classes = {\n",
    "                            \"Random Forest\": RandomForestClassifier,\n",
    "                            \"AdaBoost\": AdaBoostClassifier,\n",
    "                            \"Logistic R.\": LogisticRegression,\n",
    "                            \"Naive Bayes\": GaussianNB,\n",
    "                            \"Bernoulli NB\": BernoulliNB\n",
    "                            } \n",
    "\n",
    "for model_name, model_class in supervised_model_classes.items():\n",
    "    fit_model = model_class().fit(X_train, y_train)\n",
    "    y_pred = fit_model.predict(X_test)\n",
    "    l1 = accuracy_score(y_pred, y_test)\n",
    "    print(f\"{model_name} \\t{l1}\")"
   ]
  },
  {
   "cell_type": "code",
   "execution_count": null,
   "metadata": {},
   "outputs": [],
   "source": []
  }
 ],
 "metadata": {
  "kernelspec": {
   "display_name": "Python 3",
   "language": "python",
   "name": "python3"
  },
  "language_info": {
   "codemirror_mode": {
    "name": "ipython",
    "version": 3
   },
   "file_extension": ".py",
   "mimetype": "text/x-python",
   "name": "python",
   "nbconvert_exporter": "python",
   "pygments_lexer": "ipython3",
   "version": "3.8.5"
  }
 },
 "nbformat": 4,
 "nbformat_minor": 2
}
