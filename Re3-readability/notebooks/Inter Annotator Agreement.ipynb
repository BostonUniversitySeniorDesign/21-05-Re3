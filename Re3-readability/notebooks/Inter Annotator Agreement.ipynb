{
 "cells": [
  {
   "cell_type": "code",
   "execution_count": 14,
   "metadata": {},
   "outputs": [],
   "source": [
    "# making necessary imports for visualizations (TODO: import PCA and write snippet for it and UMAP)\n",
    "import json\n",
    "import numpy as np\n",
    "import pandas as pd\n",
    "import matplotlib.pyplot as plt\n",
    "import seaborn as sns\n",
    "import csv\n",
    "from sklearn.metrics import cohen_kappa_score\n",
    "import scipy.stats as stats\n",
    "import pickle"
   ]
  },
  {
   "cell_type": "code",
   "execution_count": 15,
   "metadata": {},
   "outputs": [],
   "source": [
    "# load in features to make model predictions\n",
    "features = pd.read_csv('../data/features.csv', index_col= 0)\n",
    "features_reduced  = features.iloc[:,2:-6]\n",
    "X = features_reduced.values"
   ]
  },
  {
   "cell_type": "code",
   "execution_count": 29,
   "metadata": {},
   "outputs": [],
   "source": [
    "# make model predictions\n",
    "model = pickle.load(open('linear_model.sav', 'rb'))\n",
    "prediction = model.predict(X)\n",
    "prediction_rounded = np.round(prediction)"
   ]
  },
  {
   "cell_type": "code",
   "execution_count": 18,
   "metadata": {},
   "outputs": [],
   "source": [
    "init = 0\n",
    "df = pd.read_csv('../data/matrix_of_ratings.csv')\n",
    "df = df.drop(df.columns[[0,1]], axis=1)\n",
    "df.head()\n",
    "\n",
    "matrix = df.values"
   ]
  },
  {
   "cell_type": "markdown",
   "metadata": {},
   "source": [
    "# Calculating Human Annotator Agreement"
   ]
  },
  {
   "cell_type": "code",
   "execution_count": 31,
   "metadata": {},
   "outputs": [
    {
     "name": "stdout",
     "output_type": "stream",
     "text": [
      "This is the average Cohen's Kappa Score: 0.023534579583945177\n",
      "This is the average of Kendall's Tau: 0.15608569905175076\n",
      "This is the average of the p-value for the Kendall's Tau Statistic 0.18085200813159352\n",
      "This is the average of Pearson's R: 0.22674150042453498\n",
      "This is the average of the p-value for the Pearson's R sum Statistic 0.15109686169004213\n",
      "This is the average of Spearman's Rho: 0.19683587475878844\n",
      "This is the average of the p-value for the Spearman's RHo sum Statistic 0.1803825688510148\n"
     ]
    }
   ],
   "source": [
    "cohen_kappa_sum = 0\n",
    "kendall_tau_sum = 0\n",
    "pearson_r_sum = 0\n",
    "spearman_r_sum = 0\n",
    "\n",
    "cohen_p_sum = 0\n",
    "kendall_p_sum = 0\n",
    "pearson_p_sum = 0\n",
    "spearman_p_sum = 0\n",
    "\n",
    "\n",
    "counter = 0\n",
    "\n",
    "# For Now I am only considering Kendall_p_sum and the p value seem\n",
    "\n",
    "for i in range(matrix.shape[1] - 1):\n",
    "    for j in range(i+1,matrix.shape[1]):\n",
    "        \n",
    "        if(np.all(matrix[:,i] >0) and np.all(matrix[:,j] > 0)):\n",
    "            \n",
    "            agr_kappa = cohen_kappa_score(matrix[:,i], matrix[:,j])\n",
    "            aggr_tau,p_val = stats.kendalltau(matrix[:,i], matrix[:,j])\n",
    "            aggr_r,p_val_1 = stats.pearsonr(matrix[:,i],matrix[:,j])\n",
    "            aggr_sr,p_val_2 = stats.spearmanr(matrix[:,i],matrix[:,j])\n",
    "        \n",
    "            \n",
    "            pearson_r_sum += aggr_r\n",
    "            kendall_tau_sum += aggr_tau\n",
    "            cohen_kappa_sum += agr_kappa\n",
    "            spearman_r_sum += aggr_sr\n",
    "            \n",
    "            kendall_p_sum += p_val\n",
    "            pearson_p_sum += p_val_1\n",
    "            spearman_p_sum += p_val_2\n",
    "            \n",
    "            counter += 1\n",
    "\n",
    "print(\"This is the average Cohen's Kappa Score: \"  + str(cohen_kappa_sum/counter))\n",
    "\n",
    "print(\"This is the average of Kendall's Tau: \" + str(kendall_tau_sum/counter))\n",
    "print(\"This is the average of the p-value for the Kendall's Tau Statistic \" + str(kendall_p_sum/counter))\n",
    "\n",
    "print(\"This is the average of Pearson's R: \" + str(pearson_r_sum/counter))\n",
    "print(\"This is the average of the p-value for the Pearson's R sum Statistic \" + str(pearson_p_sum/counter))\n",
    "\n",
    "print(\"This is the average of Spearman's Rho: \" + str(spearman_r_sum/counter))\n",
    "print(\"This is the average of the p-value for the Spearman's RHo sum Statistic \" + str(spearman_p_sum/counter))"
   ]
  },
  {
   "cell_type": "markdown",
   "metadata": {},
   "source": [
    "# Calculating Human/Model Inter Anotator Agreement"
   ]
  },
  {
   "cell_type": "code",
   "execution_count": 32,
   "metadata": {},
   "outputs": [
    {
     "name": "stdout",
     "output_type": "stream",
     "text": [
      "This is the average Cohen's Kappa Score: 0.018870159525603638\n",
      "This is the average of Kendall's Tau: 0.28300006399661004\n",
      "This is the average of the p-value for the Kendall's Tau Statistic 0.05446770337159785\n",
      "This is the average of Pearson's R: 0.39116921708911967\n",
      "This is the average of the p-value for the Pearson's R sum Statistic 0.04260944508637115\n",
      "This is the average of Spearman's Rho: 0.33303134631034126\n",
      "This is the average of the p-value for the Spearman's RHo sum Statistic 0.05517822152148039\n"
     ]
    }
   ],
   "source": [
    "cohen_kappa_sum = 0\n",
    "kendall_tau_sum = 0\n",
    "pearson_r_sum = 0\n",
    "spearman_r_sum = 0\n",
    "\n",
    "cohen_p_sum = 0\n",
    "kendall_p_sum = 0\n",
    "pearson_p_sum = 0\n",
    "spearman_p_sum = 0\n",
    "\n",
    "counter = 0\n",
    "\n",
    "# For Now I am only considering Kendall_p_sum and the p value seem\n",
    "\n",
    "for i in range(matrix.shape[1] - 1):\n",
    "    \n",
    "    if(np.all(matrix[:,i] >0) and np.all(prediction > 0)):\n",
    "\n",
    "        agr_kappa = cohen_kappa_score(matrix[:,i], prediction_rounded)\n",
    "        aggr_tau,p_val = stats.kendalltau(matrix[:,i], prediction_rounded)\n",
    "        aggr_r,p_val_1 = stats.pearsonr(matrix[:,i],prediction_rounded)\n",
    "        aggr_sr,p_val_2 = stats.spearmanr(matrix[:,i],prediction_rounded)\n",
    "\n",
    "\n",
    "        pearson_r_sum += aggr_r\n",
    "        kendall_tau_sum += aggr_tau\n",
    "        cohen_kappa_sum += agr_kappa\n",
    "        spearman_r_sum += aggr_sr\n",
    "\n",
    "        kendall_p_sum += p_val\n",
    "        pearson_p_sum += p_val_1\n",
    "        spearman_p_sum += p_val_2\n",
    "\n",
    "        counter += 1\n",
    "\n",
    "print(\"This is the average Cohen's Kappa Score: \"  + str(cohen_kappa_sum/counter))\n",
    "\n",
    "print(\"This is the average of Kendall's Tau: \" + str(kendall_tau_sum/counter))\n",
    "print(\"This is the average of the p-value for the Kendall's Tau Statistic \" + str(kendall_p_sum/counter))\n",
    "\n",
    "print(\"This is the average of Pearson's R: \" + str(pearson_r_sum/counter))\n",
    "print(\"This is the average of the p-value for the Pearson's R sum Statistic \" + str(pearson_p_sum/counter))\n",
    "\n",
    "print(\"This is the average of Spearman's Rho: \" + str(spearman_r_sum/counter))\n",
    "print(\"This is the average of the p-value for the Spearman's RHo sum Statistic \" + str(spearman_p_sum/counter))"
   ]
  }
 ],
 "metadata": {
  "kernelspec": {
   "display_name": "Python 3",
   "language": "python",
   "name": "python3"
  },
  "language_info": {
   "codemirror_mode": {
    "name": "ipython",
    "version": 3
   },
   "file_extension": ".py",
   "mimetype": "text/x-python",
   "name": "python",
   "nbconvert_exporter": "python",
   "pygments_lexer": "ipython3",
   "version": "3.8.5"
  }
 },
 "nbformat": 4,
 "nbformat_minor": 4
}
